{
 "cells": [
  {
   "cell_type": "code",
   "execution_count": 1,
   "metadata": {},
   "outputs": [
    {
     "name": "stdout",
     "output_type": "stream",
     "text": [
      "Date: 2024-09-01, Weekday: 6\n",
      "Date: 2024-09-02, Weekday: 0\n",
      "Date: 2024-09-03, Weekday: 1\n",
      "Date: 2024-09-04, Weekday: 2\n",
      "Date: 2024-09-05, Weekday: 3\n",
      "Date: 2024-09-06, Weekday: 4\n",
      "Date: 2024-09-07, Weekday: 5\n",
      "Date: 2024-09-08, Weekday: 6\n",
      "Date: 2024-09-09, Weekday: 0\n",
      "Date: 2024-09-10, Weekday: 1\n",
      "Date: 2024-09-11, Weekday: 2\n",
      "Date: 2024-09-12, Weekday: 3\n",
      "Date: 2024-09-13, Weekday: 4\n",
      "Date: 2024-09-14, Weekday: 5\n",
      "Date: 2024-09-15, Weekday: 6\n",
      "Date: 2024-09-16, Weekday: 0\n",
      "Date: 2024-09-17, Weekday: 1\n",
      "Date: 2024-09-18, Weekday: 2\n",
      "Date: 2024-09-19, Weekday: 3\n",
      "Date: 2024-09-20, Weekday: 4\n",
      "Date: 2024-09-21, Weekday: 5\n",
      "Date: 2024-09-22, Weekday: 6\n",
      "Date: 2024-09-23, Weekday: 0\n",
      "Date: 2024-09-24, Weekday: 1\n",
      "Date: 2024-09-25, Weekday: 2\n",
      "Date: 2024-09-26, Weekday: 3\n",
      "Date: 2024-09-27, Weekday: 4\n",
      "Date: 2024-09-28, Weekday: 5\n",
      "Date: 2024-09-29, Weekday: 6\n",
      "Date: 2024-09-30, Weekday: 0\n",
      "Total Business Days: 21\n",
      "21\n"
     ]
    }
   ],
   "source": [
    "import calendar\n",
    "from datetime import date\n",
    "\n",
    "def calculate_business_days(month, year):\n",
    "    _, num_days = calendar.monthrange(year, month)\n",
    "    business_days = 0\n",
    "    \n",
    "    for day in range(1, num_days + 1):\n",
    "        current_day = date(year, month, day)\n",
    "        print(f\"Date: {current_day}, Weekday: {current_day.weekday()}\")\n",
    "        if current_day.weekday() < 5:\n",
    "            business_days += 1\n",
    "\n",
    "    print(f\"Total Business Days: {business_days}\")\n",
    "    return business_days\n",
    "\n",
    "# Test the function for September 2024\n",
    "print(calculate_business_days(9, 2024))\n"
   ]
  },
  {
   "cell_type": "code",
   "execution_count": null,
   "metadata": {},
   "outputs": [],
   "source": [
    "##SNOWFLAKE_SCRIPT_CALENDAR\n",
    "\n",
    "CREATE OR REPLACE FUNCTION DW_TEST.DW.BUSINESS_DAYS_IN_MONTH(month NUMBER, year NUMBER)\n",
    "RETURNS NUMBER\n",
    "LANGUAGE PYTHON\n",
    "RUNTIME_VERSION='3.8'\n",
    "PACKAGES=('python-dateutil', 'numpy')\n",
    "HANDLER='calculate_business_days'\n",
    "AS\n",
    "$$\n",
    "import calendar\n",
    "from datetime import date\n",
    "\n",
    "def calculate_business_days(month, year):\n",
    "    # Find the number of days in the month\n",
    "    _, num_days = calendar.monthrange(year, month)\n",
    "    \n",
    "    # Initialize business day count\n",
    "    business_days = 0\n",
    "    \n",
    "    # Loop through each day in the month\n",
    "    for day in range(1, num_days + 1):\n",
    "        # Create a date object\n",
    "        current_day = date(year, month, day)\n",
    "        \n",
    "        # Log the date and weekday for debugging\n",
    "        print(f\"Date: {current_day}, Weekday: {current_day.weekday()}\")\n",
    "        \n",
    "        # Check if the day is a weekday (Monday=0, Sunday=6)\n",
    "        if current_day.weekday() < 5:  # Monday to Friday are business days\n",
    "            business_days += 1\n",
    "            \n",
    "    print(f\"Total Business Days: {business_days}\")\n",
    "    return business_days\n",
    "$$;\n"
   ]
  },
  {
   "cell_type": "code",
   "execution_count": null,
   "metadata": {},
   "outputs": [],
   "source": []
  }
 ],
 "metadata": {
  "kernelspec": {
   "display_name": "Python 3",
   "language": "python",
   "name": "python3"
  },
  "language_info": {
   "name": "python",
   "version": "3.11.8"
  }
 },
 "nbformat": 4,
 "nbformat_minor": 2
}
